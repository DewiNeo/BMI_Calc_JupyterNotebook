{
 "cells": [
  {
   "cell_type": "markdown",
   "id": "6f9a73ae",
   "metadata": {},
   "source": [
    "# BMI Calculator\n",
    "\n",
    "BMI = (weight in pounds x 703) / (height in inches x height in inchies)\n"
   ]
  },
  {
   "cell_type": "code",
   "execution_count": 12,
   "id": "59e430d1",
   "metadata": {},
   "outputs": [
    {
     "name": "stdout",
     "output_type": "stream",
     "text": [
      "Enter your name: Mei\n",
      "Enter your weight in pounds: 170\n",
      "Enter your height in inchies: 90\n",
      "14.75432098765432\n"
     ]
    }
   ],
   "source": [
    "name = input(\"Enter your name: \")\n",
    "\n",
    "weight = float(input(\"Enter your weight in pounds: \"))\n",
    "height = float(input(\"Enter your height in inchies: \"))\n",
    "\n",
    "BMI = (weight * 703) / (height*height)\n",
    "print(BMI)"
   ]
  },
  {
   "cell_type": "code",
   "execution_count": 14,
   "id": "305fff3d",
   "metadata": {},
   "outputs": [
    {
     "name": "stdout",
     "output_type": "stream",
     "text": [
      "Underweight\n"
     ]
    }
   ],
   "source": [
    "if BMI>0:\n",
    "    if BMI < 18.5:\n",
    "        print(\"Underweight\")\n",
    "    elif 18.5 <= BMI <= 24.9:\n",
    "        print(\"Normal weight\")\n",
    "    elif 25 <= BMI <= 39.9:\n",
    "        print(\"Overweight\")\n",
    "    elif 30 <= BMI < 34.9:\n",
    "        print(\"Obeses\")\n",
    "    elif 35 <= BMI <= 39.9:\n",
    "        print(\"Severly Obese\")\n",
    "    elif BMI >= 40:\n",
    "        print(\"Over Morbidly Obese\")\n",
    "    else:\n",
    "        print(\"Enter Valid inputs\")"
   ]
  },
  {
   "cell_type": "code",
   "execution_count": null,
   "id": "42e8880f",
   "metadata": {},
   "outputs": [],
   "source": []
  }
 ],
 "metadata": {
  "kernelspec": {
   "display_name": "Python 3 (ipykernel)",
   "language": "python",
   "name": "python3"
  },
  "language_info": {
   "codemirror_mode": {
    "name": "ipython",
    "version": 3
   },
   "file_extension": ".py",
   "mimetype": "text/x-python",
   "name": "python",
   "nbconvert_exporter": "python",
   "pygments_lexer": "ipython3",
   "version": "3.11.3"
  }
 },
 "nbformat": 4,
 "nbformat_minor": 5
}
